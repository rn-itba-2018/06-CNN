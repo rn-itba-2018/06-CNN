{
 "cells": [
  {
   "cell_type": "markdown",
   "metadata": {},
   "source": [
    "## Ejercicio CNN\n",
    "\n",
    "Dado el dataset CIFAR-10:\n",
    "\n",
    "https://www.cs.toronto.edu/~kriz/cifar.html\n",
    "\n",
    "Implementar un clasificador con una CNN que clasifique los 10 tipos de imágenes utilizando:\n",
    "\n",
    "* 50000 para training y 10000 para testing.\n",
    "* Aplicar técnicas de regularización.\n",
    "* Tres capas convolucionales\n",
    "* Analizar resultados para data-augmentation vs sin data-augmentation.\n",
    "* Analizar el contenido de los kernels resultantes en las tres capas convolucionales (Se recomienda dedicarle un tiempo para ver esta página: https://blog.keras.io/how-convolutional-neural-networks-see-the-world.html)\n",
    "* ¿Qué implica utilizar kernels mas grandes?\n",
    "* Utilizar transfer learning y volver a resolver el problema. Utilizar algún modelo provisto en: https://keras.io/applications/\n",
    "\n",
    "\n"
   ]
  },
  {
   "cell_type": "code",
   "execution_count": null,
   "metadata": {},
   "outputs": [],
   "source": []
  }
 ],
 "metadata": {
  "kernelspec": {
   "display_name": "Python (weather)",
   "language": "python",
   "name": "weather"
  },
  "language_info": {
   "codemirror_mode": {
    "name": "ipython",
    "version": 3
   },
   "file_extension": ".py",
   "mimetype": "text/x-python",
   "name": "python",
   "nbconvert_exporter": "python",
   "pygments_lexer": "ipython3",
   "version": "3.6.1"
  },
  "toc": {
   "colors": {
    "hover_highlight": "#DAA520",
    "navigate_num": "#000000",
    "navigate_text": "#333333",
    "running_highlight": "#FF0000",
    "selected_highlight": "#FFD700",
    "sidebar_border": "#EEEEEE",
    "wrapper_background": "#FFFFFF"
   },
   "moveMenuLeft": true,
   "nav_menu": {
    "height": "12px",
    "width": "252px"
   },
   "navigate_menu": true,
   "number_sections": true,
   "sideBar": true,
   "threshold": 4,
   "toc_cell": false,
   "toc_section_display": "block",
   "toc_window_display": false,
   "widenNotebook": false
  }
 },
 "nbformat": 4,
 "nbformat_minor": 2
}
